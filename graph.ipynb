{
 "nbformat": 4,
 "nbformat_minor": 2,
 "metadata": {
  "language_info": {
   "name": "python",
   "codemirror_mode": {
    "name": "ipython",
    "version": 3
   },
   "version": "3.6.8-final"
  },
  "orig_nbformat": 2,
  "file_extension": ".py",
  "mimetype": "text/x-python",
  "name": "python",
  "npconvert_exporter": "python",
  "pygments_lexer": "ipython3",
  "version": 3,
  "kernelspec": {
   "name": "python36864bitvenvscivenv55fc700d3ea9447888c06400e9b2b088",
   "display_name": "Python 3.6.8 64-bit ('venv-sci': venv)"
  }
 },
 "cells": [
  {
   "cell_type": "code",
   "execution_count": 61,
   "metadata": {},
   "outputs": [],
   "source": [
    "import pygraphviz as pgv"
   ]
  },
  {
   "cell_type": "code",
   "execution_count": 242,
   "metadata": {},
   "outputs": [],
   "source": [
    "G=pgv.AGraph(strict=False,directed=True,pad=0.5,\n",
    "            nodesep='1',ranksep='.1')"
   ]
  },
  {
   "cell_type": "code",
   "execution_count": 243,
   "metadata": {},
   "outputs": [],
   "source": [
    "G.graph_attr['label']='How to recover your Jupyter Notebook\\n(@rayljohns)'\n",
    "G.graph_attr['splines']='ortho'\n",
    "G.node_attr['shape']='box'\n",
    "G.node_attr['style']='rounded'\n",
    "G.edge_attr['color']='blue'"
   ]
  },
  {
   "cell_type": "code",
   "execution_count": 244,
   "metadata": {},
   "outputs": [],
   "source": [
    "G.add_node('start', shape='box', style='rounded,bold')\n",
    "G.add_node('a', shape='box', label='How much did you lose?')\n",
    "G.add_edge('start', 'a')"
   ]
  },
  {
   "cell_type": "code",
   "execution_count": 245,
   "metadata": {},
   "outputs": [],
   "source": [
    "G.add_node('b', label='A few cells', style='filled,rounded', fillcolor='yellow')\n",
    "G.add_node('c', label='A whole notebook', style='filled,rounded', fillcolor='orange')\n",
    "G.add_node('d', label='More than one\\nnotebook', style='filled,rounded', fillcolor='red')\n",
    "G.add_edge('a','b')\n",
    "G.add_edge('a','c')\n",
    "G.add_edge('a','d')"
   ]
  },
  {
   "cell_type": "code",
   "execution_count": 246,
   "metadata": {},
   "outputs": [],
   "source": [
    "G.add_node('e', label='Is the notebook \\nstill running?')\n",
    "G.add_edge('b','e')\n",
    "G.add_node('f', label='Use In[] or %history\\nmagic to recover the\\nlast few cells', color='green')\n",
    "G.add_edge('e','f', label='yes')"
   ]
  },
  {
   "cell_type": "code",
   "execution_count": 247,
   "metadata": {},
   "outputs": [],
   "source": [
    "G.add_node('g', label='Is the kernel\\nstill running?')\n",
    "G.add_edge('e','g',label='no')\n",
    "G.add_edge('c', 'g')"
   ]
  },
  {
   "cell_type": "code",
   "execution_count": 248,
   "metadata": {},
   "outputs": [],
   "source": [
    "G.add_node('h', label='write session history\\nto disk with\\n%notebook filename.ipynb\\nor %history -f filename.py', color='green')\n",
    "G.add_edge('g', 'h', label='yes')"
   ]
  },
  {
   "cell_type": "code",
   "execution_count": 249,
   "metadata": {},
   "outputs": [],
   "source": [
    "G.add_node('i', label='Use sqlite3 to\\naccess IPython\\nhistory database')\n",
    "G.add_edge('g','i',label='no')\n",
    "G.add_edge('d','i')"
   ]
  },
  {
   "cell_type": "code",
   "execution_count": 250,
   "metadata": {},
   "outputs": [],
   "source": [
    "G.add_node('j', label='Can you eyeball it?')\n",
    "G.add_edge('i','j')\n",
    "G.add_node('k', label='Use SQL to\\nselect rows\\nthat match\\n criteria\\nin history table')\n",
    "G.add_edge('j','k',label='yes')"
   ]
  },
  {
   "cell_type": "code",
   "execution_count": 251,
   "metadata": {},
   "outputs": [],
   "source": [
    "G.add_node('l', label='Join tables on\\n session ID\\nand filter\\n with SQL')\n",
    "G.add_edge('j','l',label='no')"
   ]
  },
  {
   "cell_type": "code",
   "execution_count": 252,
   "metadata": {},
   "outputs": [],
   "source": [
    "G.add_node('m', label='Export SQL results\\nto .py file', color='green')\n",
    "G.add_edge('k','m')\n",
    "G.add_edge('l','m')"
   ]
  },
  {
   "cell_type": "code",
   "execution_count": 253,
   "metadata": {},
   "outputs": [],
   "source": [
    "G.add_node('n', label='Convert .py file\\nto .ipynb\\nwith jupytext', style='bold,rounded', color='blue')\n",
    "G.add_edge('m','n')\n",
    "G.add_edge('h', 'n')"
   ]
  },
  {
   "cell_type": "code",
   "execution_count": 254,
   "metadata": {},
   "outputs": [],
   "source": [
    "G.add_node('o', label='finish!',style='bold,rounded')\n",
    "G.add_edge('n','o')"
   ]
  },
  {
   "cell_type": "code",
   "execution_count": 255,
   "metadata": {},
   "outputs": [],
   "source": [
    "G.layout(prog='dot')\n",
    "#G.layout()"
   ]
  },
  {
   "cell_type": "code",
   "execution_count": 256,
   "metadata": {},
   "outputs": [],
   "source": [
    "G.draw('file.png')"
   ]
  },
  {
   "cell_type": "code",
   "execution_count": null,
   "metadata": {},
   "outputs": [],
   "source": [
    "neato, dot, twopi, circo, fdp, nop, wc, acyclic, gvpr, gvcolor, ccomps, sccmap, tred, sfdp, unflatten."
   ]
  }
 ]
}