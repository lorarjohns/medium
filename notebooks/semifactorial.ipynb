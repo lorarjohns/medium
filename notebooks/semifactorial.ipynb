{
 "nbformat": 4,
 "nbformat_minor": 2,
 "metadata": {
  "language_info": {
   "name": "python",
   "codemirror_mode": {
    "name": "ipython",
    "version": 3
   },
   "version": "3.6.8-final"
  },
  "orig_nbformat": 2,
  "file_extension": ".py",
  "mimetype": "text/x-python",
  "name": "python",
  "npconvert_exporter": "python",
  "pygments_lexer": "ipython3",
  "version": 3,
  "kernelspec": {
   "name": "python36864bitvenvscivenv55fc700d3ea9447888c06400e9b2b088",
   "display_name": "Python 3.6.8 64-bit ('venv-sci': venv)"
  }
 },
 "cells": [
  {
   "cell_type": "code",
   "execution_count": 4,
   "metadata": {},
   "outputs": [],
   "source": [
    "def semifactorial(n):\n",
    "    if n == 0 or n == 1:\n",
    "        # return the multiplicative identity\n",
    "        return 1\n",
    "    # return n(n - 2) for all integers between\n",
    "    # n and 1 with the same parity as n\n",
    "    return n * semifactorial(n-2)"
   ]
  },
  {
   "cell_type": "code",
   "execution_count": 5,
   "metadata": {},
   "outputs": [
    {
     "output_type": "execute_result",
     "data": {
      "text/plain": "48"
     },
     "metadata": {},
     "execution_count": 5
    }
   ],
   "source": [
    "semifactorial(6)"
   ]
  },
  {
   "cell_type": "code",
   "execution_count": null,
   "metadata": {},
   "outputs": [],
   "source": []
  }
 ]
}