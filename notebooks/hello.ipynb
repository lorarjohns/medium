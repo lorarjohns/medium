{
 "nbformat": 4,
 "nbformat_minor": 2,
 "metadata": {
  "language_info": {
   "name": "python",
   "codemirror_mode": {
    "name": "ipython",
    "version": 3
   },
   "version": "3.6.8-final"
  },
  "orig_nbformat": 2,
  "file_extension": ".py",
  "mimetype": "text/x-python",
  "name": "python",
  "npconvert_exporter": "python",
  "pygments_lexer": "ipython3",
  "version": 3,
  "kernelspec": {
   "name": "python36864bitvenvscivenv55fc700d3ea9447888c06400e9b2b088",
   "display_name": "Python 3.6.8 64-bit ('venv-sci': venv)"
  }
 },
 "cells": [
  {
   "cell_type": "code",
   "execution_count": 13,
   "metadata": {},
   "outputs": [],
   "source": [
    "import numpy as np\n",
    "import random"
   ]
  },
  {
   "cell_type": "code",
   "execution_count": 14,
   "metadata": {},
   "outputs": [],
   "source": [
    "import ipytest\n",
    "ipytest.config(rewrite_asserts=True, magics=True)\n",
    "\n",
    "__file__ = \"hello.ipynb\""
   ]
  },
  {
   "cell_type": "code",
   "execution_count": 15,
   "metadata": {},
   "outputs": [],
   "source": [
    "def sigmoid(x):\n",
    "    \"\"\"\n",
    "    Compute the sigmoid function for the input here.\n",
    "    Arguments:\n",
    "    x -- A scalar or numpy array.\n",
    "    Return:\n",
    "    s -- sigmoid(x)\n",
    "    \"\"\"\n",
    "\n",
    "    s = np.exp(x)/(np.exp(x)+1)\n",
    "\n",
    "    return s\n",
    ""
   ]
  },
  {
   "cell_type": "code",
   "execution_count": 16,
   "metadata": {},
   "outputs": [],
   "source": [
    "test_sigmoid_data = {\n",
    "        'x': np.array([-0.46612273, -0.87671855, 0.54822123, -0.36443576, -0.87671855, 0.33688521\n",
    "                          , -0.87671855, 0.33688521, -0.36443576, -0.36443576, 0.54822123]).astype(float),\n",
    "        's': np.array(\n",
    "            [0.38553435, 0.29385824, 0.63372281, 0.40988622, 0.29385824, 0.5834337, 0.29385824, 0.5834337, 0.40988622,\n",
    "             0.40988622, 0.63372281]).astype(float),\n",
    "    }"
   ]
  },
  {
   "cell_type": "code",
   "execution_count": 17,
   "metadata": {},
   "outputs": [
    {
     "output_type": "stream",
     "name": "stdout",
     "text": "============================= test session starts ==============================\nplatform linux -- Python 3.6.8, pytest-5.4.1, py-1.8.1, pluggy-0.13.1 -- /home/ray/.pyenv/versions/venv-sci/bin/python\ncachedir: .pytest_cache\nrootdir: /home/ray/Development/sandbox/medium\ncollecting ...collected 1 item\n\nhello.py::test_sigmoid <- <ipython-input-17-8c637114f262>PASSED         [100%]\n\n============================== 1 passed in 0.02s ===============================\n"
    }
   ],
   "source": [
    "%%run_pytest[clean] -vv\n",
    "\n",
    "def test_sigmoid():\n",
    "\n",
    "    test_sigmoid_data = {\n",
    "        'x': np.array([-0.46612273, -0.87671855, 0.54822123, -0.36443576, -0.87671855, 0.33688521\n",
    "                          , -0.87671855, 0.33688521, -0.36443576, -0.36443576, 0.54822123]).astype(float),\n",
    "        's': np.array(\n",
    "            [0.38553435, 0.29385824, 0.63372281, 0.40988622, 0.29385824, 0.5834337, 0.29385824, 0.5834337, 0.40988622,\n",
    "             0.40988622, 0.63372281]).astype(float),\n",
    "    }\n",
    "    assert np.allclose(test_sigmoid_data['s'], sigmoid(test_sigmoid_data['x']))"
   ]
  }
 ]
}