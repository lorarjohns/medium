{
 "cells": [
  {
   "cell_type": "code",
   "execution_count": null,
   "metadata": {},
   "outputs": [],
   "source": [
    "%sx pwd"
   ]
  },
  {
   "cell_type": "code",
   "execution_count": 42,
   "metadata": {},
   "outputs": [],
   "source": [
    "#get_ipython().__getstate__()"
   ]
  },
  {
   "cell_type": "markdown",
   "metadata": {},
   "source": [
    "# How to Un-Delete Your Jupyter Notebooks\n",
    "\n",
    "- Ray (Lora) Johns, NLU Research Engineer & Computational Linguist\n",
    "\n",
    "## What we'll cover:\n",
    "\n",
    "1. Structure of a Jupyter Notebook\n",
    "2. The IPython session\n",
    "3. Jupyter %%magics\n",
    "4. Handy notebook tricks\n",
    "5. Viewing session history with sqlite\n",
    "6. Version control and backup with jupytext\n",
    "7. The %store magic for macros and more\n",
    "\n",
    "## What you'll be able to do:\n",
    "\n",
    "1. Understand that notebooks are functional wrappers for different language kernels\n",
    "2. Manipulate Jupyter data structures to recover lost data\n",
    "3. Use IPython to access code and output and convert it to different formats\n",
    "4. Do data forensics on your code history with SQL \n",
    "5. Create reusable macros to streamline your Jupyter workflow  "
   ]
  },
  {
   "cell_type": "markdown",
   "metadata": {},
   "source": [
    "# What's a Jupyter notebook, anyway?\n",
    "\n",
    "A Jupyter notebook is just a  dictionary with a few keys and a [JSON schema](https://github.com/jupyter/nbformat/blob/master/nbformat/v4/nbformat.v4.schema.json).\n",
    "\n",
    "```{json}\n",
    "{\n",
    "  \"metadata\" : {\n",
    "    \"kernel_info\": {\n",
    "        # if kernel_info is defined, its name field is required.\n",
    "        \"name\" : \"the name of the kernel\"\n",
    "    },\n",
    "    \"language_info\": {\n",
    "        # if language_info is defined, its name field is required.\n",
    "        \"name\" : \"the programming language of the kernel\",\n",
    "        \"version\": \"the version of the language\",\n",
    "        \"codemirror_mode\": \"The name of the codemirror mode to use [optional]\"\n",
    "    }\n",
    "  },\n",
    "  \"nbformat\": 4,\n",
    "  \"nbformat_minor\": 0,\n",
    "  \"cells\" : [\n",
    "      # list of cell dictionaries, see below\n",
    "  ],\n",
    "}\n",
    "```\n",
    "Primarily, there are __code cells__, __output cells__, and __markdown cells__.\n",
    "\n",
    "- __code cells__ are where you input code to execute, as well as any comments.\n",
    "\n",
    "- __output cells__ are where the output of code cells appears. Notebooks are interactive, like the iPython REPL. Each cell gets its own output, but cells share access to varables.\n",
    "\n",
    "- __markdown cells__ like this one allow you to input formatted text. Jupyter supports displaying many kinds of formatting, including HTML and $\\LaTeX$.\n"
   ]
  },
  {
   "cell_type": "markdown",
   "metadata": {},
   "source": [
    "# Scenario: Deleting a few cells in an active notebook\n",
    "\n",
    "When you run a cell or hit “save”, the Jupyter notebook server sends your code as JSON to a notebook on your computer that stores your input and output. You can use this data storage to recover code that you deleted on the surface."
   ]
  },
  {
   "cell_type": "code",
   "execution_count": 2,
   "metadata": {},
   "outputs": [],
   "source": [
    "# Run some code to generate some fake data\n",
    "import numpy as np"
   ]
  },
  {
   "cell_type": "code",
   "execution_count": 3,
   "metadata": {},
   "outputs": [],
   "source": [
    "# Set the random seed\n",
    "np.random.seed(6543791)"
   ]
  },
  {
   "cell_type": "code",
   "execution_count": 4,
   "metadata": {},
   "outputs": [],
   "source": [
    "# Generate 100 samples from the uniform distribution\n",
    "array = np.random.uniform(size=100)"
   ]
  },
  {
   "cell_type": "code",
   "execution_count": 5,
   "metadata": {},
   "outputs": [],
   "source": [
    "# Specify a boolean condition\n",
    "condition = array < 0.5"
   ]
  },
  {
   "cell_type": "code",
   "execution_count": 6,
   "metadata": {},
   "outputs": [],
   "source": [
    "# Slice the array to return matching data\n",
    "array_lt_half = array[condition]"
   ]
  },
  {
   "cell_type": "code",
   "execution_count": 7,
   "metadata": {},
   "outputs": [],
   "source": [
    "# Slice the array to return non-matching data\n",
    "array_geq_half = array[~condition]"
   ]
  },
  {
   "cell_type": "code",
   "execution_count": 8,
   "metadata": {},
   "outputs": [
    {
     "output_type": "execute_result",
     "data": {
      "text/plain": "47"
     },
     "metadata": {},
     "execution_count": 8
    }
   ],
   "source": [
    "len(array_lt_half)"
   ]
  },
  {
   "cell_type": "code",
   "execution_count": 9,
   "metadata": {},
   "outputs": [
    {
     "output_type": "execute_result",
     "data": {
      "text/plain": "53"
     },
     "metadata": {},
     "execution_count": 9
    }
   ],
   "source": [
    "len(array_geq_half)"
   ]
  },
  {
   "cell_type": "code",
   "execution_count": 10,
   "metadata": {},
   "outputs": [
    {
     "output_type": "execute_result",
     "data": {
      "text/plain": "1"
     },
     "metadata": {},
     "execution_count": 10
    }
   ],
   "source": [
    "idx = np.random.randint(0, min(len(array_geq_half), len(array_lt_half)))\n",
    "idx"
   ]
  },
  {
   "cell_type": "code",
   "execution_count": 11,
   "metadata": {},
   "outputs": [
    {
     "output_type": "stream",
     "name": "stdout",
     "text": "0.04866575720571309\n0.6327758725506353\n"
    }
   ],
   "source": [
    "# Sanity check a sample from each subarray\n",
    "print(array_lt_half[idx])\n",
    "print(array_geq_half[idx])"
   ]
  },
  {
   "cell_type": "markdown",
   "metadata": {},
   "source": [
    "## Using `In` and `Out`\n",
    "\n",
    "- `In` is a list. You can use any Python list operations on it.\n",
    "- `Out` is dict. You must access it using its keys, which are the cell numbers of the code cells that produced the output. \n",
    "- `Out` only stores the results of cells that sent a computation or return value to the REPL. The same code, if you run it twice, will get two dict keys, one for each numbered cell. (You can rerun cells easily with `Shift+Return`.)\n",
    "- Markdown cells are not counted or recorded.\n",
    "- `_` stores the most recent previous output."
   ]
  },
  {
   "cell_type": "code",
   "execution_count": 12,
   "metadata": {},
   "outputs": [
    {
     "output_type": "execute_result",
     "data": {
      "text/plain": "list"
     },
     "metadata": {},
     "execution_count": 12
    }
   ],
   "source": [
    "type(In)"
   ]
  },
  {
   "cell_type": "code",
   "execution_count": 13,
   "metadata": {},
   "outputs": [
    {
     "output_type": "execute_result",
     "data": {
      "text/plain": "dict"
     },
     "metadata": {},
     "execution_count": 13
    }
   ],
   "source": [
    "type(Out)"
   ]
  },
  {
   "cell_type": "code",
   "execution_count": 14,
   "metadata": {},
   "outputs": [
    {
     "output_type": "execute_result",
     "data": {
      "text/plain": "dict"
     },
     "metadata": {},
     "execution_count": 14
    }
   ],
   "source": [
    "_"
   ]
  },
  {
   "cell_type": "code",
   "execution_count": 15,
   "metadata": {},
   "outputs": [
    {
     "output_type": "stream",
     "name": "stdout",
     "text": "# Sanity check a sample from each subarray\nprint(array_lt_half[idx])\nprint(array_geq_half[idx])\n\n\ntype(In)\n\n\ntype(Out)\n\n\n_\n\n\n# Note that each cell is its own item\n\n# Get the last 5 cells run\n\nfor cell in In[-5:]:\n    print(cell)\n    print('\\n')\n\n\n"
    }
   ],
   "source": [
    "# Note that each cell is its own item\n",
    "\n",
    "# Get the last 5 cells run\n",
    "\n",
    "for cell in In[-5:]:\n",
    "    print(cell)\n",
    "    print('\\n')"
   ]
  },
  {
   "cell_type": "code",
   "execution_count": 16,
   "metadata": {},
   "outputs": [],
   "source": [
    "import random \n",
    "random.seed(73852)"
   ]
  },
  {
   "cell_type": "code",
   "execution_count": 17,
   "metadata": {},
   "outputs": [],
   "source": [
    "def return_some_data(array1, array2):\n",
    "    idx = np.random.randint(min(len(array1), len(array2)))\n",
    "    arr = random.choice([array1, array2])\n",
    "    return arr[idx]"
   ]
  },
  {
   "cell_type": "code",
   "execution_count": 18,
   "metadata": {},
   "outputs": [
    {
     "output_type": "execute_result",
     "data": {
      "text/plain": "0.22994183653328526"
     },
     "metadata": {},
     "execution_count": 18
    }
   ],
   "source": [
    "data = return_some_data(array_geq_half, array_lt_half)\n",
    "data"
   ]
  },
  {
   "cell_type": "code",
   "execution_count": 19,
   "metadata": {},
   "outputs": [
    {
     "output_type": "execute_result",
     "data": {
      "text/plain": "22.994183653328527"
     },
     "metadata": {},
     "execution_count": 19
    }
   ],
   "source": [
    "# Run this cell several times by hitting `Ctrl+Return`, or rerun it with the %rerun magic\n",
    "\n",
    "data*100"
   ]
  },
  {
   "cell_type": "code",
   "execution_count": 20,
   "metadata": {},
   "outputs": [
    {
     "output_type": "stream",
     "name": "stdout",
     "text": "No lines in history match specification\n"
    }
   ],
   "source": [
    "%rerun 81"
   ]
  },
  {
   "cell_type": "code",
   "execution_count": 21,
   "metadata": {},
   "outputs": [
    {
     "output_type": "execute_result",
     "data": {
      "text/plain": "{1: ['/home/ray/Development/medium/notebooks'],\n 8: 47,\n 9: 53,\n 10: 1,\n 12: list,\n 13: dict,\n 14: dict,\n 18: 0.22994183653328526,\n 19: 22.994183653328527}"
     },
     "metadata": {},
     "execution_count": 21
    }
   ],
   "source": [
    "# Out is a dict that holds the outputs to the REPL.\n",
    "# Note the repeated values.\n",
    "Out"
   ]
  },
  {
   "cell_type": "code",
   "execution_count": 22,
   "metadata": {},
   "outputs": [],
   "source": [
    "Out.get(19)"
   ]
  },
  {
   "cell_type": "markdown",
   "metadata": {},
   "source": [
    "## Using the `%history` magic\n",
    "\n",
    "- The `%history` line magic prints your input history (last in, first out).\n",
    "- The similar `%notebook` command does the same thing but pipes the output into a new Jupyter notebook."
   ]
  },
  {
   "cell_type": "code",
   "execution_count": 23,
   "metadata": {},
   "outputs": [
    {
     "output_type": "stream",
     "name": "stdout",
     "text": "data = return_some_data(array_geq_half, array_lt_half)\ndata\n# Run this cell several times by hitting `Ctrl+Return`, or rerun it with the %rerun magic\n\ndata*100\n%rerun 81\n# Out is a dict that holds the outputs to the REPL.\n# Note the repeated values.\nOut\nOut.get(30)\n"
    }
   ],
   "source": [
    "%history -l 5 # get the last 5 inputs"
   ]
  },
  {
   "cell_type": "code",
   "execution_count": 24,
   "metadata": {},
   "outputs": [
    {
     "output_type": "stream",
     "name": "stdout",
     "text": "\n"
    }
   ],
   "source": [
    "%history -g -f my_history.py # save your entire history to a file"
   ]
  },
  {
   "cell_type": "code",
   "execution_count": 93,
   "metadata": {},
   "outputs": [
    {
     "output_type": "stream",
     "name": "stdout",
     "text": "92: %history -n -g 'python' # search the history with a glob pattern\n  93: %history -g 'python' # search the history with a glob pattern\n"
    }
   ],
   "source": [
    "%history -g 'python' # search the history with a glob pattern"
   ]
  },
  {
   "cell_type": "code",
   "execution_count": 107,
   "metadata": {},
   "outputs": [
    {
     "output_type": "stream",
     "name": "stdout",
     "text": "1: %sx pwd\n   2:\n# Run some code to generate some fake data\nimport numpy as np\n   3:\n# Set the random seed\nnp.random.seed(6543791)\n   4:\n# Generate 100 samples from the uniform distribution\narray = np.random.uniform(size=100)\n   5:\n# Specify a boolean condition\ncondition = array < 0.5\n"
    }
   ],
   "source": [
    "%history -n 1-5 # lines in the specified range and print the line numbers"
   ]
  },
  {
   "cell_type": "code",
   "execution_count": 96,
   "metadata": {},
   "outputs": [],
   "source": [
    "%history -u # get only unique history from the session"
   ]
  },
  {
   "cell_type": "code",
   "execution_count": 99,
   "metadata": {},
   "outputs": [
    {
     "output_type": "stream",
     "name": "stdout",
     "text": "get_ipython().run_line_magic('sx', 'pwd')\n"
    }
   ],
   "source": [
    "%history -t 1 # get the Python-generated source code"
   ]
  },
  {
   "cell_type": "code",
   "execution_count": 109,
   "metadata": {},
   "outputs": [
    {
     "output_type": "stream",
     "name": "stdout",
     "text": "%sx pwd\n# Run some code to generate some fake data\nimport numpy as np\n"
    }
   ],
   "source": [
    "%history ~2/1-2 # get history from [SESSION_NO]/[RANGE_NO]\n",
    "\n",
    "# ~<number> is shorthand for \"session from <number> sessions previously\""
   ]
  },
  {
   "cell_type": "code",
   "execution_count": 111,
   "metadata": {},
   "outputs": [
    {
     "output_type": "stream",
     "name": "stdout",
     "text": "%sx pwd\n['/home/ray/Development/medium/notebooks']\n"
    }
   ],
   "source": [
    "%history 1 -o # return the output too"
   ]
  },
  {
   "cell_type": "code",
   "execution_count": 113,
   "metadata": {},
   "outputs": [
    {
     "output_type": "stream",
     "name": "stdout",
     "text": "%history -o\n%history 1 -o\n%history -l 15 # get the last n lines from all sessions, default is 10\n"
    }
   ],
   "source": [
    "%history -l 3 # get the last n lines from all sessions, default is 10"
   ]
  },
  {
   "cell_type": "code",
   "execution_count": 114,
   "metadata": {},
   "outputs": [],
   "source": [
    "%history -f saved_history.py # save any slice to a file"
   ]
  },
  {
   "cell_type": "markdown",
   "metadata": {},
   "source": [
    "# Scenario: Getting back a lot of data\n",
    "\n",
    "Things to try:\n",
    "\n",
    "### Check the sqlite database in `/home/.ipython/profile_default`\n",
    "\n",
    "- Copy the sqlite history to a backup\n",
    "- Open the backup in a SQL editor to find your session\n",
    "- Alternatively, use the sqlite CLI\n",
    "- Query the database and output the desired code into a recovery file with a `.py` extension\n",
    "- Use jupytext to turn the script back into a notebook\n",
    "- make backups of your notebooks with jupytext (Bonus: these are way better to version control on git!)\n",
    "\n",
    "### check `.ipynb-checkpoints`"
   ]
  },
  {
   "cell_type": "markdown",
   "metadata": {},
   "source": [
    "## Use sqlite on the command line\n",
    "- use the Jupyter `%%bash` cell magic to write bash commands in the notebook!\n",
    "- copy the database\n",
    "- output the query to `.py` and convert to `.ipynb` with jupytext\n",
    "- use jupytext to make `.py` backups of your notebooks "
   ]
  },
  {
   "cell_type": "code",
   "execution_count": 123,
   "metadata": {},
   "outputs": [
    {
     "output_type": "stream",
     "name": "stdout",
     "text": "/home/ray/.ipython/profile_default/history.sqlite\n"
    }
   ],
   "source": [
    "%%bash\n",
    "\n",
    "find  ~/.ipython/profile_default -name 'history.sqlite'\n",
    "\n",
    "cp 'history.sqlite' 'history-bak.sqlite'"
   ]
  },
  {
   "cell_type": "code",
   "execution_count": 124,
   "metadata": {},
   "outputs": [],
   "source": [
    "%%bash\n",
    "\n",
    "sqlite3 ~/.ipython/profile_default/history-bak.sqlite \\\n",
    "\"select distinct(source) || char(10) from history where session = 1;\" > recovered_code.py"
   ]
  },
  {
   "cell_type": "code",
   "execution_count": 126,
   "metadata": {},
   "outputs": [
    {
     "output_type": "stream",
     "name": "stdout",
     "text": "[jupytext] Reading recovered_code.py\n[jupytext] Writing recovered_code.ipynb\n"
    }
   ],
   "source": [
    "%%bash\n",
    "\n",
    "jupytext --to notebook recovered_code.py"
   ]
  },
  {
   "cell_type": "code",
   "execution_count": 129,
   "metadata": {},
   "outputs": [
    {
     "output_type": "stream",
     "name": "stdout",
     "text": "[jupytext] Reading jupyter_tutorial.ipynb\n[jupytext] Writing jupyter_tutorial.py\n"
    }
   ],
   "source": [
    "%%bash\n",
    "\n",
    "jupytext --to py jupyter_tutorial.ipynb"
   ]
  },
  {
   "cell_type": "markdown",
   "metadata": {},
   "source": [
    "## Querying multiple tables\n",
    "\n",
    "This example will return all the distinct code inputs since January 1, 2020 that contain the string `pytest` and save it to a file in the current working directory called `pytest_history.py`."
   ]
  },
  {
   "cell_type": "code",
   "execution_count": 130,
   "metadata": {},
   "outputs": [],
   "source": [
    "%%bash\n",
    "\n",
    "sqlite3 ~/.ipython/profile_default/history-bak.sqlite \\\n",
    "\"select line, source \\\n",
    "from history \\\n",
    "join sessions \\\n",
    "on sessions.session = history.session \\\n",
    "where sessions.start > '2020-01-01 00:00:00.000000' \\\n",
    "and history.source like '%pytest%';\" \\\n",
    "> pytest_history.py"
   ]
  },
  {
   "cell_type": "markdown",
   "metadata": {},
   "source": [
    "# Helpful shortcuts, magics, and macros\n",
    "\n",
    "- Use IPython’s %store magic to store variables, macros, and aliases in the IPython database."
   ]
  },
  {
   "cell_type": "markdown",
   "metadata": {},
   "source": [
    "This tells iPython's `%store` magic to save variables, macros, and aliases in the database. You can save anything you want to from a notebook and then reload it later in another one.\n",
    "\n",
    "It is a good idea to back up your config files before running bash scripts that directly edit them. "
   ]
  },
  {
   "cell_type": "code",
   "execution_count": null,
   "metadata": {},
   "outputs": [],
   "source": [
    "%%bash\n",
    "\n",
    "if [ ! -e \"$HOME/.ipython/profile_default/ipython_config.py\") ]; then\n",
    "    touch \"ipython_config.py\"\n",
    "else\n",
    "    echo \"Profile exists\";\n",
    "    echo \"c.StoreMagics.autorestore = True\" >> \"ipython_config.py\"\n",
    "fi"
   ]
  },
  {
   "cell_type": "markdown",
   "metadata": {},
   "source": [
    "- Save objects with `%store`\n",
    "- See what's in `%store` and reload objects with `%store -r`"
   ]
  },
  {
   "cell_type": "code",
   "execution_count": 134,
   "metadata": {},
   "outputs": [
    {
     "output_type": "stream",
     "name": "stdout",
     "text": "Stored variables and their in-db values:\n__add_work_dirs             -> IPython.macro.Macro('import os\\nimport sys\\n\\ndirs\n__load_env                  -> IPython.macro.Macro(\"import os, sys, subprocess\\n\\\n__load_nlm                  -> IPython.macro.Macro(\"get_ipython().run_line_magic(\n"
    }
   ],
   "source": [
    "%store"
   ]
  },
  {
   "cell_type": "code",
   "execution_count": 136,
   "metadata": {},
   "outputs": [],
   "source": [
    "%store -r __load_env"
   ]
  },
  {
   "cell_type": "markdown",
   "metadata": {},
   "source": [
    "## Define a macro\n",
    "\n",
    "The syntax to create a macro is \n",
    "```{bash}\n",
    "%macro <name-of-macro> <range(s) of cells to add to macro>\n",
    "```\n",
    "\n",
    "Make one out of your SQL query that turns the last session's history into a new file, save it with `%store`, then check that it's in the database and inspect its contents"
   ]
  },
  {
   "cell_type": "code",
   "execution_count": 138,
   "metadata": {},
   "outputs": [
    {
     "output_type": "stream",
     "name": "stdout",
     "text": "Macro `__recover_code` created. To execute, type its name (without quotes).\n=== Macro contents: ===\nget_ipython().run_cell_magic('bash', '', '\\nsqlite3 ~/.ipython/profile_default/history-bak.sqlite \\\\\\n\"select source || char(10) from history where session = 1;\" > recovered_code.py\\n')\nget_ipython().run_cell_magic('bash', '', '\\njupytext --to notebook recovered_code.py\\n')\n"
    }
   ],
   "source": [
    "%macro __recover_code 124 126"
   ]
  },
  {
   "cell_type": "code",
   "execution_count": 139,
   "metadata": {},
   "outputs": [
    {
     "output_type": "stream",
     "name": "stdout",
     "text": "Stored '__recover_code' (Macro)\n"
    }
   ],
   "source": [
    "%store __recover_code"
   ]
  },
  {
   "cell_type": "code",
   "execution_count": 140,
   "metadata": {},
   "outputs": [
    {
     "output_type": "stream",
     "name": "stdout",
     "text": "Stored variables and their in-db values:\n__add_work_dirs             -> IPython.macro.Macro('import os\\nimport sys\\n\\ndirs\n__load_env                  -> IPython.macro.Macro(\"import os, sys, subprocess\\n\\\n__load_nlm                  -> IPython.macro.Macro(\"get_ipython().run_line_magic(\n__recover_code              -> IPython.macro.Macro('get_ipython().run_cell_magic(\n"
    }
   ],
   "source": [
    "%store"
   ]
  },
  {
   "cell_type": "code",
   "execution_count": 141,
   "metadata": {},
   "outputs": [
    {
     "output_type": "stream",
     "text": "\u001b[0;31mType:\u001b[0m           Macro\n\u001b[0;31mString form:\u001b[0m   \nget_ipython().run_cell_magic('bash', '', '\\nsqlite3 ~/.ipython/profile_default/history-bak.sqlite <...> .py\\n')\n           get_ipython().run_cell_magic('bash', '', '\\njupytext --to notebook recovered_code.py\\n')\n           \n\u001b[0;31mFile:\u001b[0m           ~/.pyenv/versions/medium/lib/python3.7/site-packages/IPython/core/macro.py\n\u001b[0;31mDocstring:\u001b[0m     \nSimple class to store the value of macros as strings.\n\nMacro is just a callable that executes a string of IPython\ninput when called.\n\u001b[0;31mInit docstring:\u001b[0m store the macro value, as a single string which can be executed\n"
    }
   ],
   "source": [
    "__recover_code?"
   ]
  },
  {
   "cell_type": "code",
   "execution_count": null,
   "metadata": {},
   "outputs": [],
   "source": [
    "%%bash\n",
    "\n",
    "for file in $(find . -f -name \"*.ipynb\"); do \n",
    "    jupytext --to py file;\n",
    "done"
   ]
  },
  {
   "cell_type": "code",
   "execution_count": null,
   "metadata": {},
   "outputs": [],
   "source": []
  }
 ],
 "metadata": {
  "language_info": {
   "name": "python",
   "codemirror_mode": {
    "name": "ipython",
    "version": 3
   },
   "version": "3.7.4-final"
  },
  "orig_nbformat": 2,
  "file_extension": ".py",
  "mimetype": "text/x-python",
  "name": "python",
  "npconvert_exporter": "python",
  "pygments_lexer": "ipython3",
  "version": 3,
  "kernelspec": {
   "name": "python37464bitmediumvenva287f41fecc54ea58504ab29795dad2c",
   "display_name": "Python 3.7.4 64-bit ('medium': venv)"
  }
 },
 "nbformat": 4,
 "nbformat_minor": 2
}